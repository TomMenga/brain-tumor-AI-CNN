{
 "cells": [
  {
   "cell_type": "markdown",
   "id": "c4505e69",
   "metadata": {},
   "source": [
    "# Brain tumor detection using a CNN - Predict"
   ]
  },
  {
   "cell_type": "code",
   "execution_count": 8,
   "id": "adce89d1",
   "metadata": {},
   "outputs": [],
   "source": [
    "import os\n",
    "import matplotlib.pyplot as plt\n",
    "import numpy as np\n",
    "import random\n",
    "import seaborn as sns\n",
    "\n",
    "import tensorflow as tf\n",
    "from tensorflow import keras\n",
    "from keras.preprocessing.image import ImageDataGenerator\n",
    "from keras.layers import Conv2D, MaxPool2D, LeakyReLU, BatchNormalization, Dropout, Dense, InputLayer, Flatten, RandomFlip\n",
    "from keras.losses import BinaryCrossentropy\n",
    "from tensorflow.keras.optimizers import Adam"
   ]
  },
  {
   "cell_type": "markdown",
   "id": "75049fe0",
   "metadata": {},
   "source": [
    "Run this cell only if you are working on **Google Collab**"
   ]
  },
  {
   "cell_type": "code",
   "execution_count": null,
   "id": "ec2d19e5",
   "metadata": {},
   "outputs": [],
   "source": [
    "import urllib\n",
    "import zipfile\n",
    "\n",
    "# Download and unzip the dataset\n",
    "if not os.path.isfile('Brain Tumor Data Set.zip'):\n",
    "  urllib.request.urlretrieve(\"https://github.com/TomMenga/brain-tumor-AI-CNN/blob/main/Brain%20Tumor%20Data%20Set.zip?raw=true\", \"Brain Tumor Data Set.zip\")\n",
    "\n",
    "with zipfile.ZipFile(\"Brain Tumor Data Set.zip\",\"r\") as zip_ref:\n",
    "    zip_ref.extractall(\".\")\n",
    "\n",
    "# Download and unzip the pre-trained model\n",
    "if not os.path.isfile('model_export.zip'):\n",
    "  urllib.request.urlretrieve(\"https://github.com/TomMenga/brain-tumor-AI-CNN/blob/main/model_export.zip?raw=true\", \"model_export.zip\")\n",
    "\n",
    "with zipfile.ZipFile(\"model_export.zip\",\"r\") as zip_ref:\n",
    "    zip_ref.extractall(\".\")\n",
    "\n",
    "# Delete the zip files\n",
    "os.remove('Brain Tumor Data Set.zip')\n",
    "os.remove('model_export.zip')"
   ]
  },
  {
   "cell_type": "markdown",
   "id": "5183f627",
   "metadata": {},
   "source": [
    "### Parameters"
   ]
  },
  {
   "cell_type": "code",
   "execution_count": 2,
   "id": "54f9e447",
   "metadata": {},
   "outputs": [],
   "source": [
    "test_dataset_path = './Brain Tumor Data Set/Test'\n",
    "\n",
    "weights_export_path = './model_export/weights_only/brain_tumor_CNN'\n",
    "model_export_path = './model_export/whole_model/'\n",
    "\n",
    "batch_size = 32\n",
    "img_height = 128\n",
    "img_width = 128\n",
    "\n",
    "seed = 42\n",
    "random.seed(seed)"
   ]
  },
  {
   "cell_type": "markdown",
   "id": "ea38bd1b",
   "metadata": {},
   "source": [
    "## Let's load our test set"
   ]
  },
  {
   "cell_type": "code",
   "execution_count": 3,
   "id": "82166519",
   "metadata": {},
   "outputs": [
    {
     "name": "stdout",
     "output_type": "stream",
     "text": [
      "Found 941 files belonging to 2 classes.\n"
     ]
    }
   ],
   "source": [
    "# Test set\n",
    "test_ds = tf.keras.utils.image_dataset_from_directory(\n",
    "  test_dataset_path,\n",
    "  seed=seed,\n",
    "  image_size=(img_height, img_width),\n",
    "  batch_size=32,\n",
    "  shuffle=False)"
   ]
  },
  {
   "cell_type": "code",
   "execution_count": 4,
   "id": "014a1588",
   "metadata": {},
   "outputs": [
    {
     "name": "stdout",
     "output_type": "stream",
     "text": [
      "['Cancer', 'Not cancer']\n"
     ]
    }
   ],
   "source": [
    "# The class names derive from the folder structure\n",
    "class_names = test_ds.class_names\n",
    "print(class_names)"
   ]
  },
  {
   "cell_type": "markdown",
   "id": "a04e939c",
   "metadata": {},
   "source": [
    "## Let's load the model"
   ]
  },
  {
   "cell_type": "markdown",
   "id": "baaff87b",
   "metadata": {},
   "source": [
    "### Option 1 - Just load the weights\n",
    "In order to load the weights we need to recreate the exact model architecture used in the training process"
   ]
  },
  {
   "cell_type": "code",
   "execution_count": 9,
   "id": "e99fa12a",
   "metadata": {},
   "outputs": [],
   "source": [
    "# Recreate the model architecture\n",
    "model = tf.keras.Sequential([\n",
    "  InputLayer(input_shape=(img_height, img_width, 3)),\n",
    "  RandomFlip('horizontal', seed=seed),\n",
    "  Conv2D(8, 3, activation='relu'),\n",
    "  MaxPool2D((2, 2)),\n",
    "  Conv2D(16, 3, activation='relu'),\n",
    "  MaxPool2D((2, 2)),\n",
    "  Conv2D(32, 3, activation='relu'),\n",
    "  MaxPool2D((2, 2)),\n",
    "  Flatten(),\n",
    "  Dense(128, activation='relu'),\n",
    "  Dropout(rate=0.3),\n",
    "  Dense(64, activation='relu'),\n",
    "  Dropout(rate=0.3),\n",
    "  Dense(1, activation=\"sigmoid\")\n",
    "])\n",
    "\n",
    "model.compile(optimizer='adam',\n",
    "              loss=tf.keras.losses.BinaryCrossentropy(),\n",
    "              metrics=['accuracy'])"
   ]
  },
  {
   "cell_type": "code",
   "execution_count": 10,
   "id": "4b861dd7",
   "metadata": {},
   "outputs": [
    {
     "data": {
      "text/plain": [
       "<tensorflow.python.training.tracking.util.CheckpointLoadStatus at 0x211b87764c0>"
      ]
     },
     "execution_count": 10,
     "metadata": {},
     "output_type": "execute_result"
    }
   ],
   "source": [
    "# Restore the weights\n",
    "model.load_weights(weights_export_path)"
   ]
  },
  {
   "cell_type": "markdown",
   "id": "2110dea8",
   "metadata": {},
   "source": [
    "### Option 2 - Load the whole model"
   ]
  },
  {
   "cell_type": "code",
   "execution_count": 11,
   "id": "8e9e1756",
   "metadata": {
    "scrolled": true
   },
   "outputs": [
    {
     "name": "stdout",
     "output_type": "stream",
     "text": [
      "Model: \"sequential_2\"\n",
      "_________________________________________________________________\n",
      " Layer (type)                Output Shape              Param #   \n",
      "=================================================================\n",
      " random_flip_2 (RandomFlip)  (None, 128, 128, 3)       0         \n",
      "                                                                 \n",
      " conv2d_6 (Conv2D)           (None, 126, 126, 8)       224       \n",
      "                                                                 \n",
      " max_pooling2d_6 (MaxPooling  (None, 63, 63, 8)        0         \n",
      " 2D)                                                             \n",
      "                                                                 \n",
      " conv2d_7 (Conv2D)           (None, 61, 61, 16)        1168      \n",
      "                                                                 \n",
      " max_pooling2d_7 (MaxPooling  (None, 30, 30, 16)       0         \n",
      " 2D)                                                             \n",
      "                                                                 \n",
      " conv2d_8 (Conv2D)           (None, 28, 28, 32)        4640      \n",
      "                                                                 \n",
      " max_pooling2d_8 (MaxPooling  (None, 14, 14, 32)       0         \n",
      " 2D)                                                             \n",
      "                                                                 \n",
      " flatten_2 (Flatten)         (None, 6272)              0         \n",
      "                                                                 \n",
      " dense_6 (Dense)             (None, 128)               802944    \n",
      "                                                                 \n",
      " dropout_4 (Dropout)         (None, 128)               0         \n",
      "                                                                 \n",
      " dense_7 (Dense)             (None, 64)                8256      \n",
      "                                                                 \n",
      " dropout_5 (Dropout)         (None, 64)                0         \n",
      "                                                                 \n",
      " dense_8 (Dense)             (None, 1)                 65        \n",
      "                                                                 \n",
      "=================================================================\n",
      "Total params: 817,297\n",
      "Trainable params: 817,297\n",
      "Non-trainable params: 0\n",
      "_________________________________________________________________\n"
     ]
    }
   ],
   "source": [
    "model = tf.keras.models.load_model(model_export_path)\n",
    "\n",
    "# Check its architecture\n",
    "model.summary()"
   ]
  },
  {
   "cell_type": "markdown",
   "id": "e56d4e86",
   "metadata": {},
   "source": [
    "## Let's evaluate our model"
   ]
  },
  {
   "cell_type": "code",
   "execution_count": 12,
   "id": "ea5491aa",
   "metadata": {},
   "outputs": [
    {
     "name": "stdout",
     "output_type": "stream",
     "text": [
      "30/30 [==============================] - 2s 50ms/step - loss: 0.1584 - accuracy: 0.9639\n",
      "Accuracy: 0.96 \n",
      "Loss: 0.16\n"
     ]
    }
   ],
   "source": [
    "eval_out = model.evaluate(test_ds,\n",
    "                          verbose=1)\n",
    "\n",
    "print('Accuracy: {} \\nLoss: {}'.format(round(eval_out[1], 2), round(eval_out[0], 2)))"
   ]
  },
  {
   "cell_type": "markdown",
   "id": "f791e228",
   "metadata": {},
   "source": [
    "## Let's calcutate the confusion matrix"
   ]
  },
  {
   "cell_type": "code",
   "execution_count": 13,
   "id": "a7049b91",
   "metadata": {
    "scrolled": true
   },
   "outputs": [
    {
     "name": "stdout",
     "output_type": "stream",
     "text": [
      "30/30 [==============================] - 2s 51ms/step\n"
     ]
    }
   ],
   "source": [
    "# Let's predict our test cases\n",
    "predictions = model.predict(test_ds).flatten()\n",
    "predictions = np.array([round(p) for p in predictions]) # Round the prediction values\n",
    "\n",
    "# Let's extract the actual images and labels from the tensors\n",
    "labels = np.empty(0, 'int')\n",
    "images = np.empty((0,128,128,3))\n",
    "\n",
    "for batch_images, batch_labels in test_ds:\n",
    "  for img in batch_images:\n",
    "    images = np.append(images, [tf.get_static_value(img)], 0)\n",
    "  for l in batch_labels:\n",
    "    labels = np.append(labels, tf.get_static_value(l))\n"
   ]
  },
  {
   "cell_type": "code",
   "execution_count": 15,
   "id": "ff76fe47",
   "metadata": {},
   "outputs": [
    {
     "name": "stdout",
     "output_type": "stream",
     "text": [
      "[[514  10]\n",
      " [ 24 393]]\n"
     ]
    },
    {
     "data": {
      "image/png": "[encoded data removed]",
      "text/plain": [
       "<Figure size 432x288 with 2 Axes>"
      ]
     },
     "metadata": {
      "needs_background": "light"
     },
     "output_type": "display_data"
    }
   ],
   "source": [
    "cf_matrix = tf.math.confusion_matrix(labels, predictions).numpy()\n",
    "\n",
    "print(cf_matrix)\n",
    "\n",
    "ax = sns.heatmap(cf_matrix/np.sum(cf_matrix), annot=True, \n",
    "            fmt='.2%', cmap='Blues')\n",
    "\n",
    "ax.set_xlabel('Predicted Values')\n",
    "ax.set_ylabel('Actual Values ');\n",
    "\n",
    "## Ticket labels - List must be in alphabetical order\n",
    "ax.xaxis.set_ticklabels(['Cancer','Not Cancer'])\n",
    "ax.yaxis.set_ticklabels(['Cancer','Not Cancer'])\n",
    "\n",
    "## Display the visualization of the Confusion Matrix.\n",
    "plt.show()"
   ]
  },
  {
   "cell_type": "markdown",
   "id": "c277ebc7",
   "metadata": {},
   "source": [
    "## Let's try our model"
   ]
  },
  {
   "cell_type": "code",
   "execution_count": 16,
   "id": "f2895efe",
   "metadata": {},
   "outputs": [
    {
     "name": "stdout",
     "output_type": "stream",
     "text": [
      "1/1 [==============================] - 0s 94ms/step\n"
     ]
    },
    {
     "data": {
      "image/png": "[encoded data removed]",
      "text/plain": [
       "<Figure size 432x288 with 1 Axes>"
      ]
     },
     "metadata": {},
     "output_type": "display_data"
    }
   ],
   "source": [
    "# Pick a random image\n",
    "index_to_test = random.randrange(len(images))\n",
    "\n",
    "test_image = images[index_to_test]\n",
    "test_image_class = labels[index_to_test]\n",
    "\n",
    "# Predict it\n",
    "prediction = model.predict(np.expand_dims(test_image, 0))\n",
    "\n",
    "# Visualize the prediction\n",
    "predicted_value = round(prediction[0][0])\n",
    "true_value = tf.get_static_value(test_image_class)\n",
    "label_color = 'blue' if predicted_value == true_value else 'red'\n",
    "\n",
    "plt.xticks([])\n",
    "plt.yticks([])\n",
    "plt.grid(False)\n",
    "plt.xlabel(\"Prediction: {}\".format(class_names[predicted_value]), color=label_color)\n",
    "plt.imshow(test_image/255);"
   ]
  }
 ],
 "metadata": {
  "kernelspec": {
   "display_name": "Python 3 (ipykernel)",
   "language": "python",
   "name": "python3"
  },
  "language_info": {
   "codemirror_mode": {
    "name": "ipython",
    "version": 3
   },
   "file_extension": ".py",
   "mimetype": "text/x-python",
   "name": "python",
   "nbconvert_exporter": "python",
   "pygments_lexer": "ipython3",
   "version": "3.9.13"
  }
 },
 "nbformat": 4,
 "nbformat_minor": 5
}
