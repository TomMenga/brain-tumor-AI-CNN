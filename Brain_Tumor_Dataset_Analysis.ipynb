{
 "cells": [
  {
   "cell_type": "markdown",
   "id": "c0777f9e",
   "metadata": {},
   "source": [
    "# Brain tumor detection using a CNN"
   ]
  },
  {
   "cell_type": "code",
   "execution_count": null,
   "id": "b4efa838",
   "metadata": {},
   "outputs": [],
   "source": [
    "%matplotlib inline\n",
    "import cv2\n",
    "import matplotlib\n",
    "from matplotlib import colors\n",
    "from matplotlib import pyplot as plt\n",
    "import numpy as np\n",
    "import os"
   ]
  },
  {
   "cell_type": "markdown",
   "id": "d1a8b866",
   "metadata": {},
   "source": [
    "## Some usefull functions for plotting\n",
    "\n",
    "As the image has a certain physical resolution when displaying on a bigger frame we need interpolation, we select as default intepolator the nearest neighboor one. To plot an image which is stored in HSV format we need to convert it in RGB first."
   ]
  },
  {
   "cell_type": "code",
   "execution_count": null,
   "id": "59c30d82",
   "metadata": {},
   "outputs": [],
   "source": [
    "def show(image):\n",
    "    # Figure size in inches\n",
    "    plt.figure(figsize=(8, 8))\n",
    "    # Show image, with nearest neighbour interpolation\n",
    "    plt.imshow(image, interpolation='nearest')\n",
    "    \n",
    "def show_hsv(hsv):\n",
    "    rgb = cv2.cvtColor(hsv, cv2.COLOR_HSV2BGR)\n",
    "    show(rgb)\n",
    "    \n",
    "def show_mask(mask):\n",
    "    plt.figure(figsize=(8, 8))\n",
    "    plt.imshow(mask, cmap='gray')\n",
    "    \n",
    "def overlay_mask(mask, image):\n",
    "    rgb_mask = cv2.cvtColor(mask, cv2.COLOR_GRAY2RGB)\n",
    "    img = cv2.addWeighted(rgb_mask, 0.5, image, 0.5, 0)\n",
    "    show(img)\n"
   ]
  },
  {
   "cell_type": "markdown",
   "id": "48713615",
   "metadata": {},
   "source": [
    "### Some constants"
   ]
  },
  {
   "cell_type": "code",
   "execution_count": null,
   "id": "abb4bcec",
   "metadata": {},
   "outputs": [],
   "source": [
    "test_image_path = './Brain Tumor Data Set/Train/Cancer/Cancer (6).tif'\n",
    "#image_path = 'strawberries.jpg'"
   ]
  },
  {
   "cell_type": "markdown",
   "id": "f7d4e9a9",
   "metadata": {},
   "source": [
    "## Image reading and some statistics of pixels\n",
    "\n",
    "OpenCv knows already how to deal with different image file formats, the only thing you need to keep in mind is that by default it reads the image in memo\n",
    "ry according to the BGR ordering and not the more commo RGB we are used to."
   ]
  },
  {
   "cell_type": "code",
   "execution_count": null,
   "id": "600aaa20",
   "metadata": {},
   "outputs": [],
   "source": [
    "image = cv2.imread(test_image_path)"
   ]
  },
  {
   "cell_type": "code",
   "execution_count": null,
   "id": "42c316d5",
   "metadata": {},
   "outputs": [],
   "source": [
    "print(image.shape)\n",
    "print(\"Num pixels:\",image.shape[0]*image.shape[1])"
   ]
  },
  {
   "cell_type": "code",
   "execution_count": null,
   "id": "d4ce3c99",
   "metadata": {},
   "outputs": [],
   "source": [
    "image[200,200]"
   ]
  },
  {
   "cell_type": "code",
   "execution_count": null,
   "id": "f72bd852",
   "metadata": {
    "scrolled": false
   },
   "outputs": [],
   "source": [
    "show(image)"
   ]
  },
  {
   "cell_type": "code",
   "execution_count": null,
   "id": "a0f8940f",
   "metadata": {},
   "outputs": [],
   "source": [
    "# Convert from BGR to RGB\n",
    "image = cv2.cvtColor(image, cv2.COLOR_BGR2RGB)\n",
    "\n",
    "# Resize to a third of the size\n",
    "#image = cv2.resize(image, None, fx=1/3, fy=1/3)"
   ]
  },
  {
   "cell_type": "code",
   "execution_count": null,
   "id": "500fed53",
   "metadata": {},
   "outputs": [],
   "source": [
    "print(image.shape)\n",
    "show(image)"
   ]
  },
  {
   "cell_type": "code",
   "execution_count": null,
   "id": "08e9a020",
   "metadata": {},
   "outputs": [],
   "source": [
    "import pandas as pd\n",
    "m,n,r = image.shape\n",
    "arr = image.reshape(m*n, -1) # Equivalent to image.reshape(m*n, 3)\n",
    "gray_arr = arr[:,0] # Select only a channel (cause it is in gray scale)\n",
    "print(gray_arr.shape)\n",
    "df = pd.DataFrame(gray_arr, columns=['gray'])\n",
    "df.describe()"
   ]
  },
  {
   "cell_type": "markdown",
   "id": "3d16f7dc",
   "metadata": {},
   "source": [
    "## Channel histograms and color segmentation\n",
    "\n",
    "Image segmentation is a common practice in Image Analysis and it is about the separation of relevant information from irrelevant one. At pixel level it means to mark strawberry pixels with 1 and non strawberry pixels with 0. "
   ]
  },
  {
   "cell_type": "code",
   "execution_count": null,
   "id": "46383595",
   "metadata": {},
   "outputs": [],
   "source": [
    "def show_gray_hist(image):\n",
    "    plt.figure(figsize=(20, 4))\n",
    "    histr = cv2.calcHist([image], [0], None, [256], [0, 256])\n",
    "\n",
    "    colours = [((i/256, i/256, i/256)) for i in range(0, 256)]\n",
    "\n",
    "    plt.bar(range(0, 256), histr[:,0], color=colours, edgecolor=(0,0,0), width=1)\n",
    "\n",
    "    plt.show()\n",
    "    \n",
    "show_gray_hist(image)"
   ]
  }
 ],
 "metadata": {
  "kernelspec": {
   "display_name": "Python 3 (ipykernel)",
   "language": "python",
   "name": "python3"
  },
  "language_info": {
   "codemirror_mode": {
    "name": "ipython",
    "version": 3
   },
   "file_extension": ".py",
   "mimetype": "text/x-python",
   "name": "python",
   "nbconvert_exporter": "python",
   "pygments_lexer": "ipython3",
   "version": "3.9.13"
  }
 },
 "nbformat": 4,
 "nbformat_minor": 5
}
